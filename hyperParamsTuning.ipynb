{
 "cells": [
  {
   "cell_type": "code",
   "execution_count": 54,
   "metadata": {},
   "outputs": [],
   "source": [
    "import pandas as pd\n",
    "import numpy as np\n"
   ]
  },
  {
   "cell_type": "code",
   "execution_count": 55,
   "metadata": {},
   "outputs": [],
   "source": [
    "from sklearn.model_selection import train_test_split\n",
    "from sklearn.metrics import accuracy_score\n",
    "from sklearn.metrics import precision_score\n",
    "from sklearn.metrics import recall_score\n"
   ]
  },
  {
   "cell_type": "code",
   "execution_count": 56,
   "metadata": {},
   "outputs": [],
   "source": [
    "from sklearn.linear_model import LogisticRegression\n",
    "from sklearn.tree import DecisionTreeClassifier\n"
   ]
  },
  {
   "cell_type": "code",
   "execution_count": 57,
   "metadata": {},
   "outputs": [
    {
     "data": {
      "text/html": [
       "<div>\n",
       "<style scoped>\n",
       "    .dataframe tbody tr th:only-of-type {\n",
       "        vertical-align: middle;\n",
       "    }\n",
       "\n",
       "    .dataframe tbody tr th {\n",
       "        vertical-align: top;\n",
       "    }\n",
       "\n",
       "    .dataframe thead th {\n",
       "        text-align: right;\n",
       "    }\n",
       "</style>\n",
       "<table border=\"1\" class=\"dataframe\">\n",
       "  <thead>\n",
       "    <tr style=\"text-align: right;\">\n",
       "      <th></th>\n",
       "      <th>Survived</th>\n",
       "      <th>Pclass</th>\n",
       "      <th>Sex</th>\n",
       "      <th>Age</th>\n",
       "      <th>SibSp</th>\n",
       "      <th>Parch</th>\n",
       "      <th>Fare</th>\n",
       "      <th>Embarked_C</th>\n",
       "      <th>Embarked_Q</th>\n",
       "      <th>Embarked_S</th>\n",
       "    </tr>\n",
       "  </thead>\n",
       "  <tbody>\n",
       "    <tr>\n",
       "      <th>0</th>\n",
       "      <td>0</td>\n",
       "      <td>3</td>\n",
       "      <td>1</td>\n",
       "      <td>24.0</td>\n",
       "      <td>0</td>\n",
       "      <td>0</td>\n",
       "      <td>7.4958</td>\n",
       "      <td>0</td>\n",
       "      <td>0</td>\n",
       "      <td>1</td>\n",
       "    </tr>\n",
       "    <tr>\n",
       "      <th>1</th>\n",
       "      <td>0</td>\n",
       "      <td>3</td>\n",
       "      <td>1</td>\n",
       "      <td>37.0</td>\n",
       "      <td>2</td>\n",
       "      <td>0</td>\n",
       "      <td>7.9250</td>\n",
       "      <td>0</td>\n",
       "      <td>0</td>\n",
       "      <td>1</td>\n",
       "    </tr>\n",
       "    <tr>\n",
       "      <th>2</th>\n",
       "      <td>0</td>\n",
       "      <td>3</td>\n",
       "      <td>1</td>\n",
       "      <td>40.0</td>\n",
       "      <td>0</td>\n",
       "      <td>0</td>\n",
       "      <td>7.8958</td>\n",
       "      <td>0</td>\n",
       "      <td>0</td>\n",
       "      <td>1</td>\n",
       "    </tr>\n",
       "    <tr>\n",
       "      <th>3</th>\n",
       "      <td>1</td>\n",
       "      <td>1</td>\n",
       "      <td>1</td>\n",
       "      <td>42.0</td>\n",
       "      <td>0</td>\n",
       "      <td>0</td>\n",
       "      <td>26.2875</td>\n",
       "      <td>0</td>\n",
       "      <td>0</td>\n",
       "      <td>1</td>\n",
       "    </tr>\n",
       "    <tr>\n",
       "      <th>4</th>\n",
       "      <td>1</td>\n",
       "      <td>2</td>\n",
       "      <td>0</td>\n",
       "      <td>25.0</td>\n",
       "      <td>1</td>\n",
       "      <td>1</td>\n",
       "      <td>30.0000</td>\n",
       "      <td>0</td>\n",
       "      <td>0</td>\n",
       "      <td>1</td>\n",
       "    </tr>\n",
       "  </tbody>\n",
       "</table>\n",
       "</div>"
      ],
      "text/plain": [
       "   Survived  Pclass  Sex   Age  SibSp  Parch     Fare  Embarked_C  Embarked_Q  \\\n",
       "0         0       3    1  24.0      0      0   7.4958           0           0   \n",
       "1         0       3    1  37.0      2      0   7.9250           0           0   \n",
       "2         0       3    1  40.0      0      0   7.8958           0           0   \n",
       "3         1       1    1  42.0      0      0  26.2875           0           0   \n",
       "4         1       2    0  25.0      1      1  30.0000           0           0   \n",
       "\n",
       "   Embarked_S  \n",
       "0           1  \n",
       "1           1  \n",
       "2           1  \n",
       "3           1  \n",
       "4           1  "
      ]
     },
     "execution_count": 57,
     "metadata": {},
     "output_type": "execute_result"
    }
   ],
   "source": [
    "titanic_df = pd.read_csv('./data/titanic_train_preprocessed.csv')\n",
    "titanic_df.head()\n"
   ]
  },
  {
   "cell_type": "code",
   "execution_count": 58,
   "metadata": {},
   "outputs": [],
   "source": [
    "X = titanic_df.drop(['Survived'], axis=1)\n",
    "Y = titanic_df['Survived']\n",
    "\n",
    "x_train, x_test, y_train, y_test = train_test_split(X, Y, test_size=0.2)\n"
   ]
  },
  {
   "cell_type": "code",
   "execution_count": 59,
   "metadata": {},
   "outputs": [],
   "source": [
    "def summerize_classification(y_test, y_pred):\n",
    "    print('Test Data Count: {}'.format(len(y_test)))\n",
    "    print('Accuracy: {:.2f}'.format(\n",
    "        accuracy_score(y_test, y_pred, normalize=True)))\n",
    "    print('Accuracy Score: {:.2f}'.format(\n",
    "        accuracy_score(y_test, y_pred, normalize=False)))\n",
    "    print('Precision: {:.2f}'.format(precision_score(y_test, y_pred)))\n",
    "    print('Recall: {:.2f}'.format(recall_score(y_test, y_pred)))\n",
    "    print()\n"
   ]
  },
  {
   "cell_type": "code",
   "execution_count": 60,
   "metadata": {},
   "outputs": [
    {
     "data": {
      "text/plain": [
       "{'max_depth': 4}"
      ]
     },
     "execution_count": 60,
     "metadata": {},
     "output_type": "execute_result"
    }
   ],
   "source": [
    "from sklearn.model_selection import GridSearchCV\n",
    "\n",
    "params = { 'max_depth': [2, 4, 5, 7, 9, 10] }\n",
    "\n",
    "grid_search = GridSearchCV(DecisionTreeClassifier(), params, cv=3, return_train_score=True)\n",
    "grid_search.fit(x_train, y_train)\n",
    "\n",
    "grid_search.best_params_"
   ]
  },
  {
   "cell_type": "code",
   "execution_count": 61,
   "metadata": {},
   "outputs": [
    {
     "name": "stdout",
     "output_type": "stream",
     "text": [
      "Params: {'max_depth': 2}\n",
      "Mean Score: 0.8049289891395155\n",
      "Rank: 3\n",
      "Params: {'max_depth': 4}\n",
      "Mean Score: 0.8154645873944119\n",
      "Rank: 1\n",
      "Params: {'max_depth': 5}\n",
      "Mean Score: 0.8119650979300101\n",
      "Rank: 2\n",
      "Params: {'max_depth': 7}\n",
      "Mean Score: 0.7890931031281908\n",
      "Rank: 4\n",
      "Params: {'max_depth': 9}\n",
      "Mean Score: 0.7820848417339645\n",
      "Rank: 5\n",
      "Params: {'max_depth': 10}\n",
      "Mean Score: 0.7662768031189083\n",
      "Rank: 6\n"
     ]
    }
   ],
   "source": [
    "for i in range(6):\n",
    "    print('Params:', grid_search.cv_results_['params'][i])\n",
    "    print('Mean Score:', grid_search.cv_results_['mean_test_score'][i])\n",
    "    print('Rank:', grid_search.cv_results_['rank_test_score'][i])"
   ]
  },
  {
   "cell_type": "code",
   "execution_count": 62,
   "metadata": {},
   "outputs": [],
   "source": [
    "decision_tree_model = DecisionTreeClassifier(max_depth=grid_search.best_params_['max_depth']).fit(x_train, y_train)"
   ]
  },
  {
   "cell_type": "code",
   "execution_count": 63,
   "metadata": {},
   "outputs": [],
   "source": [
    "y_pred = decision_tree_model.predict(x_test)"
   ]
  },
  {
   "cell_type": "code",
   "execution_count": 64,
   "metadata": {},
   "outputs": [
    {
     "name": "stdout",
     "output_type": "stream",
     "text": [
      "Test Data Count: 143\n",
      "Accuracy: 0.80\n",
      "Accuracy Score: 115.00\n",
      "Precision: 0.81\n",
      "Recall: 0.70\n",
      "\n"
     ]
    }
   ],
   "source": [
    "summerize_classification(y_test, y_pred)"
   ]
  },
  {
   "cell_type": "code",
   "execution_count": 69,
   "metadata": {},
   "outputs": [
    {
     "data": {
      "text/plain": [
       "{'C': 0.8, 'penalty': 'l1'}"
      ]
     },
     "execution_count": 69,
     "metadata": {},
     "output_type": "execute_result"
    }
   ],
   "source": [
    "params = {\n",
    "    'C': [0.1, 0.4, 0.8, 1, 2, 5],\n",
    "    'penalty': ['l1', 'l2']\n",
    "}\n",
    "\n",
    "grid_search = GridSearchCV(LogisticRegression(solver='liblinear'), params, cv=3, return_train_score=True)\n",
    "grid_search.fit(x_train, y_train)\n",
    "\n",
    "grid_search.best_params_"
   ]
  },
  {
   "cell_type": "code",
   "execution_count": 70,
   "metadata": {},
   "outputs": [
    {
     "name": "stdout",
     "output_type": "stream",
     "text": [
      "Params: {'C': 0.1, 'penalty': 'l1'}\n",
      "Mean Score: 0.7662489557226398\n",
      "Rank: 12\n",
      "Params: {'C': 0.1, 'penalty': 'l2'}\n",
      "Mean Score: 0.7662582381880627\n",
      "Rank: 11\n",
      "Params: {'C': 0.4, 'penalty': 'l1'}\n",
      "Mean Score: 0.7785667873387171\n",
      "Rank: 2\n",
      "Params: {'C': 0.4, 'penalty': 'l2'}\n",
      "Mean Score: 0.7750394504780469\n",
      "Rank: 7\n",
      "Params: {'C': 0.8, 'penalty': 'l1'}\n",
      "Mean Score: 0.7820755592685417\n",
      "Rank: 1\n",
      "Params: {'C': 0.8, 'penalty': 'l2'}\n",
      "Mean Score: 0.7732943469785575\n",
      "Rank: 9\n",
      "Params: {'C': 1, 'penalty': 'l1'}\n",
      "Mean Score: 0.7785667873387171\n",
      "Rank: 2\n",
      "Params: {'C': 1, 'penalty': 'l2'}\n",
      "Mean Score: 0.776803118908382\n",
      "Rank: 5\n",
      "Params: {'C': 2, 'penalty': 'l1'}\n",
      "Mean Score: 0.7733036294439802\n",
      "Rank: 8\n",
      "Params: {'C': 2, 'penalty': 'l2'}\n",
      "Mean Score: 0.7750580154088927\n",
      "Rank: 6\n",
      "Params: {'C': 5, 'penalty': 'l1'}\n",
      "Mean Score: 0.7768216838392278\n",
      "Rank: 4\n",
      "Params: {'C': 5, 'penalty': 'l2'}\n",
      "Mean Score: 0.771549243479068\n",
      "Rank: 10\n"
     ]
    }
   ],
   "source": [
    "for i in range(12):\n",
    "    print('Params:', grid_search.cv_results_['params'][i])\n",
    "    print('Mean Score:', grid_search.cv_results_['mean_test_score'][i])\n",
    "    print('Rank:', grid_search.cv_results_['rank_test_score'][i])"
   ]
  }
 ],
 "metadata": {
  "interpreter": {
   "hash": "5e49d1d782d0c81664cfef69a5a300da04b0c8dd1f7059897730ec0e8bf9da48"
  },
  "kernelspec": {
   "display_name": "Python 3.9.7 64-bit ('base': conda)",
   "language": "python",
   "name": "python3"
  },
  "language_info": {
   "codemirror_mode": {
    "name": "ipython",
    "version": 3
   },
   "file_extension": ".py",
   "mimetype": "text/x-python",
   "name": "python",
   "nbconvert_exporter": "python",
   "pygments_lexer": "ipython3",
   "version": "3.9.7"
  },
  "orig_nbformat": 4
 },
 "nbformat": 4,
 "nbformat_minor": 2
}
