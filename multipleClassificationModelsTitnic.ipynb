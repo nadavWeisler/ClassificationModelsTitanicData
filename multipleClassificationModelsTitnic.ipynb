{
 "cells": [
  {
   "cell_type": "code",
   "execution_count": 81,
   "metadata": {},
   "outputs": [],
   "source": [
    "import pandas as pd\n",
    "import numpy as np"
   ]
  },
  {
   "cell_type": "code",
   "execution_count": 82,
   "metadata": {},
   "outputs": [],
   "source": [
    "from sklearn.model_selection import train_test_split\n",
    "from sklearn.metrics import accuracy_score\n",
    "from sklearn.metrics import precision_score\n",
    "from sklearn.metrics import recall_score"
   ]
  },
  {
   "cell_type": "code",
   "execution_count": 83,
   "metadata": {},
   "outputs": [],
   "source": [
    "from sklearn.linear_model import LogisticRegression, SGDClassifier\n",
    "from sklearn.discriminant_analysis import LinearDiscriminantAnalysis, QuadraticDiscriminantAnalysis\n",
    "from sklearn.svm import LinearSVC\n",
    "from sklearn.neighbors import RadiusNeighborsClassifier\n",
    "from sklearn.naive_bayes import GaussianNB\n",
    "from sklearn.tree import DecisionTreeClassifier"
   ]
  },
  {
   "cell_type": "code",
   "execution_count": 84,
   "metadata": {},
   "outputs": [
    {
     "data": {
      "text/html": [
       "<div>\n",
       "<style scoped>\n",
       "    .dataframe tbody tr th:only-of-type {\n",
       "        vertical-align: middle;\n",
       "    }\n",
       "\n",
       "    .dataframe tbody tr th {\n",
       "        vertical-align: top;\n",
       "    }\n",
       "\n",
       "    .dataframe thead th {\n",
       "        text-align: right;\n",
       "    }\n",
       "</style>\n",
       "<table border=\"1\" class=\"dataframe\">\n",
       "  <thead>\n",
       "    <tr style=\"text-align: right;\">\n",
       "      <th></th>\n",
       "      <th>Survived</th>\n",
       "      <th>Pclass</th>\n",
       "      <th>Sex</th>\n",
       "      <th>Age</th>\n",
       "      <th>SibSp</th>\n",
       "      <th>Parch</th>\n",
       "      <th>Fare</th>\n",
       "      <th>Embarked_C</th>\n",
       "      <th>Embarked_Q</th>\n",
       "      <th>Embarked_S</th>\n",
       "    </tr>\n",
       "  </thead>\n",
       "  <tbody>\n",
       "    <tr>\n",
       "      <th>0</th>\n",
       "      <td>0</td>\n",
       "      <td>3</td>\n",
       "      <td>1</td>\n",
       "      <td>24.0</td>\n",
       "      <td>0</td>\n",
       "      <td>0</td>\n",
       "      <td>7.4958</td>\n",
       "      <td>0</td>\n",
       "      <td>0</td>\n",
       "      <td>1</td>\n",
       "    </tr>\n",
       "    <tr>\n",
       "      <th>1</th>\n",
       "      <td>0</td>\n",
       "      <td>3</td>\n",
       "      <td>1</td>\n",
       "      <td>37.0</td>\n",
       "      <td>2</td>\n",
       "      <td>0</td>\n",
       "      <td>7.9250</td>\n",
       "      <td>0</td>\n",
       "      <td>0</td>\n",
       "      <td>1</td>\n",
       "    </tr>\n",
       "    <tr>\n",
       "      <th>2</th>\n",
       "      <td>0</td>\n",
       "      <td>3</td>\n",
       "      <td>1</td>\n",
       "      <td>40.0</td>\n",
       "      <td>0</td>\n",
       "      <td>0</td>\n",
       "      <td>7.8958</td>\n",
       "      <td>0</td>\n",
       "      <td>0</td>\n",
       "      <td>1</td>\n",
       "    </tr>\n",
       "    <tr>\n",
       "      <th>3</th>\n",
       "      <td>1</td>\n",
       "      <td>1</td>\n",
       "      <td>1</td>\n",
       "      <td>42.0</td>\n",
       "      <td>0</td>\n",
       "      <td>0</td>\n",
       "      <td>26.2875</td>\n",
       "      <td>0</td>\n",
       "      <td>0</td>\n",
       "      <td>1</td>\n",
       "    </tr>\n",
       "    <tr>\n",
       "      <th>4</th>\n",
       "      <td>1</td>\n",
       "      <td>2</td>\n",
       "      <td>0</td>\n",
       "      <td>25.0</td>\n",
       "      <td>1</td>\n",
       "      <td>1</td>\n",
       "      <td>30.0000</td>\n",
       "      <td>0</td>\n",
       "      <td>0</td>\n",
       "      <td>1</td>\n",
       "    </tr>\n",
       "  </tbody>\n",
       "</table>\n",
       "</div>"
      ],
      "text/plain": [
       "   Survived  Pclass  Sex   Age  SibSp  Parch     Fare  Embarked_C  Embarked_Q  \\\n",
       "0         0       3    1  24.0      0      0   7.4958           0           0   \n",
       "1         0       3    1  37.0      2      0   7.9250           0           0   \n",
       "2         0       3    1  40.0      0      0   7.8958           0           0   \n",
       "3         1       1    1  42.0      0      0  26.2875           0           0   \n",
       "4         1       2    0  25.0      1      1  30.0000           0           0   \n",
       "\n",
       "   Embarked_S  \n",
       "0           1  \n",
       "1           1  \n",
       "2           1  \n",
       "3           1  \n",
       "4           1  "
      ]
     },
     "execution_count": 84,
     "metadata": {},
     "output_type": "execute_result"
    }
   ],
   "source": [
    "titanic_df = pd.read_csv('./data/titanic_train_preprocessed.csv')\n",
    "titanic_df.head()"
   ]
  },
  {
   "cell_type": "code",
   "execution_count": 85,
   "metadata": {},
   "outputs": [
    {
     "data": {
      "text/plain": [
       "['Pclass',\n",
       " 'Sex',\n",
       " 'Age',\n",
       " 'SibSp',\n",
       " 'Parch',\n",
       " 'Fare',\n",
       " 'Embarked_C',\n",
       " 'Embarked_Q',\n",
       " 'Embarked_S']"
      ]
     },
     "execution_count": 85,
     "metadata": {},
     "output_type": "execute_result"
    }
   ],
   "source": [
    "features = list(titanic_df.columns[1:])\n",
    "features"
   ]
  },
  {
   "cell_type": "code",
   "execution_count": 86,
   "metadata": {},
   "outputs": [],
   "source": [
    "result_dict = {}"
   ]
  },
  {
   "cell_type": "code",
   "execution_count": 87,
   "metadata": {},
   "outputs": [],
   "source": [
    "def summerize_classification(y_test, y_pred):\n",
    "    acc = accuracy_score(y_test, y_pred, normalize=True)\n",
    "    num_acc = accuracy_score(y_test, y_pred, normalize=False)\n",
    "    \n",
    "    prec = precision_score(y_test, y_pred)\n",
    "    recall = recall_score(y_test, y_pred)\n",
    "    \n",
    "    return {\n",
    "        'accuracy': acc,\n",
    "        'precision': prec,\n",
    "        'recall': recall,\n",
    "        'accuracy_count': num_acc\n",
    "    }"
   ]
  },
  {
   "cell_type": "code",
   "execution_count": 88,
   "metadata": {},
   "outputs": [],
   "source": [
    "def build_model(classifier_func, y_col, x_cols, df, test_size=0.2):\n",
    "    X = df[x_cols]\n",
    "    y = df[y_col]\n",
    "    \n",
    "    X_train, X_test, y_train, y_test = train_test_split(X, y, test_size=test_size)\n",
    "    \n",
    "    model = classifier_func(X_train, y_train)\n",
    "    \n",
    "    y_pred = model.predict(X_test)\n",
    "    y_pred_train = model.predict(X_train)\n",
    "    \n",
    "    train_summary = summerize_classification(y_train, y_pred_train)\n",
    "    test_summary = summerize_classification(y_test, y_pred)\n",
    "    \n",
    "    pred_results = pd.DataFrame({\n",
    "        'y_test': y_test,\n",
    "        'y_pred': y_pred\n",
    "    })\n",
    "    \n",
    "    model_crosstab = pd.crosstab(pred_results.y_test, pred_results.y_pred, rownames=['Actual'], colnames=['Predicted'])\n",
    "    \n",
    "    return {\n",
    "        'training': train_summary,\n",
    "        'test': test_summary,\n",
    "        'confusion_matrix': model_crosstab,\n",
    "    }"
   ]
  },
  {
   "cell_type": "code",
   "execution_count": 89,
   "metadata": {},
   "outputs": [],
   "source": [
    "def compare_results():\n",
    "    for key in result_dict:\n",
    "        print('Classification: {}'.format(key))\n",
    "        print('Training:')\n",
    "        for score in result_dict[key]['training']:\n",
    "            print('{}: {}'.format(score, result_dict[key]['training'][score]))\n",
    "        print('Test:')\n",
    "        for score in result_dict[key]['test']:\n",
    "            print('{}: {}'.format(score, result_dict[key]['test'][score]))\n",
    "        print('\\n')\n",
    "        "
   ]
  },
  {
   "cell_type": "code",
   "execution_count": 90,
   "metadata": {},
   "outputs": [],
   "source": [
    "def compare_single_results(key):\n",
    "    print('Classification: {}'.format(key))\n",
    "    print('Training:')\n",
    "    for score in result_dict[key]['training']:\n",
    "        print('{}: {}'.format(score, result_dict[key]['training'][score]))\n",
    "    print('Test:')\n",
    "    for score in result_dict[key]['test']:\n",
    "        print('{}: {}'.format(score, result_dict[key]['test'][score]))\n"
   ]
  },
  {
   "cell_type": "code",
   "execution_count": 91,
   "metadata": {},
   "outputs": [],
   "source": [
    "def logistic_regression_function(x_train, y_train):\n",
    "    model = LogisticRegression(solver='liblinear')\n",
    "    model.fit(x_train, y_train)\n",
    "    return model"
   ]
  },
  {
   "cell_type": "code",
   "execution_count": 92,
   "metadata": {},
   "outputs": [
    {
     "name": "stdout",
     "output_type": "stream",
     "text": [
      "Classification: Survived - Logistic Regression\n",
      "Training:\n",
      "accuracy: 0.8172231985940246\n",
      "precision: 0.7989130434782609\n",
      "recall: 0.6869158878504673\n",
      "accuracy_count: 465\n",
      "Test:\n",
      "accuracy: 0.7692307692307693\n",
      "precision: 0.8867924528301887\n",
      "recall: 0.6351351351351351\n",
      "accuracy_count: 110\n"
     ]
    }
   ],
   "source": [
    "result_dict['Survived - Logistic Regression'] = build_model(logistic_regression_function, 'Survived', features, titanic_df)\n",
    "compare_single_results('Survived - Logistic Regression')"
   ]
  },
  {
   "cell_type": "code",
   "execution_count": 100,
   "metadata": {},
   "outputs": [],
   "source": [
    "def linear_discriminant_analysis_function(x_train, y_train, solver='svd'):\n",
    "    model = LinearDiscriminantAnalysis(solver=solver)\n",
    "    model.fit(x_train, y_train)\n",
    "    return model"
   ]
  },
  {
   "cell_type": "code",
   "execution_count": 101,
   "metadata": {},
   "outputs": [
    {
     "name": "stdout",
     "output_type": "stream",
     "text": [
      "Classification: Survived - Linear Discriminant Analysis\n",
      "Training:\n",
      "accuracy: 0.804920913884007\n",
      "precision: 0.7894736842105263\n",
      "recall: 0.7112068965517241\n",
      "accuracy_count: 458\n",
      "Test:\n",
      "accuracy: 0.7482517482517482\n",
      "precision: 0.6851851851851852\n",
      "recall: 0.6607142857142857\n",
      "accuracy_count: 107\n"
     ]
    }
   ],
   "source": [
    "result_dict['Survived - Linear Discriminant Analysis'] = build_model(linear_discriminant_analysis_function, 'Survived', features[0:-1], titanic_df)\n",
    "compare_single_results('Survived - Linear Discriminant Analysis')"
   ]
  },
  {
   "cell_type": "code",
   "execution_count": 102,
   "metadata": {},
   "outputs": [],
   "source": [
    "def quadratic_discriminant_analysis_function(x_train, y_train):\n",
    "    model = QuadraticDiscriminantAnalysis()\n",
    "    model.fit(x_train, y_train)\n",
    "    return model"
   ]
  },
  {
   "cell_type": "code",
   "execution_count": 103,
   "metadata": {},
   "outputs": [
    {
     "name": "stdout",
     "output_type": "stream",
     "text": [
      "Classification: Survived - Quadratic Discriminant Analysis\n",
      "Training:\n",
      "accuracy: 0.8031634446397188\n",
      "precision: 0.7652582159624414\n",
      "recall: 0.7244444444444444\n",
      "accuracy_count: 457\n",
      "Test:\n",
      "accuracy: 0.7692307692307693\n",
      "precision: 0.75\n",
      "recall: 0.7142857142857143\n",
      "accuracy_count: 110\n"
     ]
    }
   ],
   "source": [
    "result_dict['Survived - Quadratic Discriminant Analysis'] = build_model(quadratic_discriminant_analysis_function, 'Survived', features[0:-1], titanic_df)\n",
    "compare_single_results('Survived - Quadratic Discriminant Analysis')"
   ]
  },
  {
   "cell_type": "code",
   "execution_count": 106,
   "metadata": {},
   "outputs": [],
   "source": [
    "def stocatic_gradient_descent_function(x_train, y_train, max_iterations=1000, tol=1e-3):\n",
    "    model = SGDClassifier(max_iter=max_iterations, tol=tol)\n",
    "    model.fit(x_train, y_train)\n",
    "    return model"
   ]
  },
  {
   "cell_type": "code",
   "execution_count": 107,
   "metadata": {},
   "outputs": [
    {
     "name": "stdout",
     "output_type": "stream",
     "text": [
      "Classification: Survived - SGDClassifier\n",
      "Training:\n",
      "accuracy: 0.7135325131810193\n",
      "precision: 0.617363344051447\n",
      "recall: 0.8135593220338984\n",
      "accuracy_count: 406\n",
      "Test:\n",
      "accuracy: 0.7272727272727273\n",
      "precision: 0.5802469135802469\n",
      "recall: 0.9038461538461539\n",
      "accuracy_count: 104\n"
     ]
    }
   ],
   "source": [
    "result_dict['Survived - SGDClassifier'] = build_model(stocatic_gradient_descent_function, 'Survived', features[0:-1], titanic_df)\n",
    "compare_single_results('Survived - SGDClassifier')"
   ]
  },
  {
   "cell_type": "code",
   "execution_count": 108,
   "metadata": {},
   "outputs": [],
   "source": [
    "def linear_svc_function(x_train, y_train, C=1.0, class_weight=None, max_iterations=1000, tol=1e-3):\n",
    "    model = LinearSVC(C=C, class_weight=class_weight, max_iter=max_iterations, tol=tol, dual=False)\n",
    "    model.fit(x_train, y_train)\n",
    "    return model"
   ]
  },
  {
   "cell_type": "code",
   "execution_count": 109,
   "metadata": {},
   "outputs": [
    {
     "name": "stdout",
     "output_type": "stream",
     "text": [
      "Classification: Survived - Linear SVC\n",
      "Training:\n",
      "accuracy: 0.8084358523725835\n",
      "precision: 0.7904761904761904\n",
      "recall: 0.7186147186147186\n",
      "accuracy_count: 460\n",
      "Test:\n",
      "accuracy: 0.7552447552447552\n",
      "precision: 0.7037037037037037\n",
      "recall: 0.6666666666666666\n",
      "accuracy_count: 108\n"
     ]
    }
   ],
   "source": [
    "result_dict['Survived - Linear SVC'] = build_model(linear_svc_function, 'Survived', features[0:-1], titanic_df)\n",
    "compare_single_results('Survived - Linear SVC')"
   ]
  },
  {
   "cell_type": "code",
   "execution_count": 112,
   "metadata": {},
   "outputs": [],
   "source": [
    "def nearest_neighbors_function(x_train, y_train, radius=40):\n",
    "    model = RadiusNeighborsClassifier(radius=radius)\n",
    "    model.fit(x_train, y_train)\n",
    "    return model"
   ]
  },
  {
   "cell_type": "code",
   "execution_count": 113,
   "metadata": {},
   "outputs": [
    {
     "name": "stdout",
     "output_type": "stream",
     "text": [
      "Classification: Survived - Radius Neighbors\n",
      "Training:\n",
      "accuracy: 0.664323374340949\n",
      "precision: 0.696969696969697\n",
      "recall: 0.3\n",
      "accuracy_count: 378\n",
      "Test:\n",
      "accuracy: 0.6923076923076923\n",
      "precision: 0.8181818181818182\n",
      "recall: 0.3103448275862069\n",
      "accuracy_count: 99\n"
     ]
    }
   ],
   "source": [
    "result_dict['Survived - Radius Neighbors'] = build_model(nearest_neighbors_function, 'Survived', features[0:-1], titanic_df)\n",
    "compare_single_results('Survived - Radius Neighbors')"
   ]
  },
  {
   "cell_type": "code",
   "execution_count": 114,
   "metadata": {},
   "outputs": [],
   "source": [
    "def desicion_tree_function(x_train, y_train, max_depth=None, max_features=None):\n",
    "    model = DecisionTreeClassifier(max_depth=max_depth, max_features=max_features)\n",
    "    model.fit(x_train, y_train)\n",
    "    return model"
   ]
  },
  {
   "cell_type": "code",
   "execution_count": 115,
   "metadata": {},
   "outputs": [
    {
     "name": "stdout",
     "output_type": "stream",
     "text": [
      "Classification: Survived - Decision Tree\n",
      "Training:\n",
      "accuracy: 0.984182776801406\n",
      "precision: 1.0\n",
      "recall: 0.9615384615384616\n",
      "accuracy_count: 560\n",
      "Test:\n",
      "accuracy: 0.7412587412587412\n",
      "precision: 0.6268656716417911\n",
      "recall: 0.7777777777777778\n",
      "accuracy_count: 106\n"
     ]
    }
   ],
   "source": [
    "result_dict['Survived - Decision Tree'] = build_model(desicion_tree_function, 'Survived', features[0:-1], titanic_df)\n",
    "compare_single_results('Survived - Decision Tree')"
   ]
  },
  {
   "cell_type": "code",
   "execution_count": 118,
   "metadata": {},
   "outputs": [],
   "source": [
    "def naive_bayes_function(x_train, y_train, priors=None):\n",
    "    model = GaussianNB(priors=priors)\n",
    "    model.fit(x_train, y_train)\n",
    "    return model"
   ]
  },
  {
   "cell_type": "code",
   "execution_count": 119,
   "metadata": {},
   "outputs": [
    {
     "name": "stdout",
     "output_type": "stream",
     "text": [
      "Classification: Survived - Naive Bayes\n",
      "Training:\n",
      "accuracy: 0.7768014059753954\n",
      "precision: 0.7466666666666667\n",
      "recall: 0.7058823529411765\n",
      "accuracy_count: 442\n",
      "Test:\n",
      "accuracy: 0.7762237762237763\n",
      "precision: 0.6607142857142857\n",
      "recall: 0.74\n",
      "accuracy_count: 111\n"
     ]
    }
   ],
   "source": [
    "result_dict['Survived - Naive Bayes'] = build_model(naive_bayes_function, 'Survived', features[0:-1], titanic_df)\n",
    "compare_single_results('Survived - Naive Bayes')"
   ]
  }
 ],
 "metadata": {
  "interpreter": {
   "hash": "5e49d1d782d0c81664cfef69a5a300da04b0c8dd1f7059897730ec0e8bf9da48"
  },
  "kernelspec": {
   "display_name": "Python 3.9.7 64-bit ('base': conda)",
   "language": "python",
   "name": "python3"
  },
  "language_info": {
   "codemirror_mode": {
    "name": "ipython",
    "version": 3
   },
   "file_extension": ".py",
   "mimetype": "text/x-python",
   "name": "python",
   "nbconvert_exporter": "python",
   "pygments_lexer": "ipython3",
   "version": "3.9.7"
  },
  "orig_nbformat": 4
 },
 "nbformat": 4,
 "nbformat_minor": 2
}
